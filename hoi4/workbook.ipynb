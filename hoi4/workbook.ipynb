{
 "cells": [
  {
   "cell_type": "code",
   "execution_count": 13,
   "metadata": {},
   "outputs": [],
   "source": [
    "import land_and_air as laa"
   ]
  },
  {
   "cell_type": "code",
   "execution_count": 9,
   "metadata": {},
   "outputs": [],
   "source": [
    "civ_base = 5\n",
    "mil_base = 4.5\n",
    "dyd_base = 2.5\n",
    "\n",
    "con_costs = {\n",
    "    'CIV': 10800,\n",
    "    'MIL': 7200,\n",
    "    'DYD': 6400,\n",
    "    'SYNR': 14500,\n",
    "    'FUEL': 5000,\n",
    "    'ROCK': 6400,\n",
    "    'NUKE': 30000\n",
    "}\n",
    "\n",
    "research = {\n",
    "\n",
    "}\n"
   ]
  },
  {
   "cell_type": "code",
   "execution_count": 10,
   "metadata": {},
   "outputs": [],
   "source": [
    "class Economy:\n",
    "\t\t\n",
    "\tdef __init__(self, date, mils, dyds, resources, stockpile, fact_out, prod_cap):\n",
    "\t\tself.date = date\n",
    "\t\tself.mils = mils\n",
    "\t\tself.dyds = dyds\n",
    "\t\tself.resources = resources\n",
    "\t\tself.stockpile = stockpile\n",
    "\t\tself.fact_out = fact_out\n",
    "\t\tself.prod_cap = prod_cap\n",
    "\t\t\t\n",
    "\tdef advance_day(self):\n",
    "\t\tfor mil in self.mils:\n",
    "\t\t\tequip, quantity = mil.daily_prod()\n",
    "\t\t\tif equip in self.stockpile:\n",
    "\t\t\t\tself.stockpile[equip] += quantity\n",
    "\t\t\telse:\n",
    "\t\t\t\tself.stockpile[equip] = quantity\n",
    "\t\tfor dyd in self.dyds:\n",
    "\t\t\tdyd.advance_day()"
   ]
  },
  {
   "cell_type": "code",
   "execution_count": 11,
   "metadata": {},
   "outputs": [],
   "source": [
    "class Mil(Economy):\n",
    "\t\t\n",
    "\tdef __init__(self, equipment, prod_eff):\n",
    "\t\tself.equip = equipment\n",
    "\t\tself.prod_eff = prod_eff\n",
    "\t\tself.at_prod_cap = False\n",
    "\t\t\n",
    "\tdef daily_prod(self):\n",
    "\t\toutput_IC = Economy.fact_out * self.prod_eff * mil_base\n",
    "\t\tequip_cost = self.equip.get_IC()\n",
    "\t\toutput_equip = output_IC / equip_cost\n",
    "\t\tself.prod_eff_daily_gain()\n",
    "\t\treturn self.equip, output_equip\n",
    "\t\t\n",
    "\tdef prod_eff_daily_gain(self):\n",
    "\t\tif self.at_prod_cap == False:\n",
    "\t\t\tself.prod_eff = self.prod_eff + 0.001 * Economy.prod_cap ** 2 / self.prod_eff\n",
    "\t\t\tif self.prod_eff > Economy.prod_cap:\n",
    "\t\t\t\tself.prod_eff = Economy.prod_cap\n",
    "\t\t\t\tself.at_prod_cap = True\n"
   ]
  },
  {
   "cell_type": "code",
   "execution_count": null,
   "metadata": {},
   "outputs": [],
   "source": [
    "# Example of Economy instatiation\n",
    "\n",
    "Socialist_Italy_36 = Economy(\n",
    "    1936,\n",
    "    [(4, laa.IE, 'max'), (2, laa.ARTE, 'max'), (1, laa.SE, 'max'), (2, laa.TRE, 'max'), (1, laa.FIG, 'max')],\n",
    "    {},\n",
    "    {},\n",
    "    {},\n",
    "    1.0,\n",
    "    0.8\n",
    ")"
   ]
  },
  {
   "cell_type": "code",
   "execution_count": 19,
   "metadata": {},
   "outputs": [
    {
     "name": "stdout",
     "output_type": "stream",
     "text": [
      "3\n"
     ]
    }
   ],
   "source": [
    "tup = (1, 2)\n",
    "def fun(a, b):\n",
    "    return a + b\n",
    "\n",
    "print(fun(*tup))"
   ]
  }
 ],
 "metadata": {
  "kernelspec": {
   "display_name": "Python 3",
   "language": "python",
   "name": "python3"
  },
  "language_info": {
   "codemirror_mode": {
    "name": "ipython",
    "version": 3
   },
   "file_extension": ".py",
   "mimetype": "text/x-python",
   "name": "python",
   "nbconvert_exporter": "python",
   "pygments_lexer": "ipython3",
   "version": "3.11.1"
  },
  "orig_nbformat": 4,
  "vscode": {
   "interpreter": {
    "hash": "5238573367df39f7286bb46f9ff5f08f63a01a80960060ce41e3c79b190280fa"
   }
  }
 },
 "nbformat": 4,
 "nbformat_minor": 2
}
