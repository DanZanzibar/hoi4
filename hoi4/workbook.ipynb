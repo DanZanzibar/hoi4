{
 "cells": [
  {
   "attachments": {},
   "cell_type": "markdown",
   "metadata": {},
   "source": [
    "# Tasks\n",
    "- define fact_out and dyd_out calculations and methods\n",
    "- update methods for modifiers\n"
   ]
  },
  {
   "cell_type": "code",
   "execution_count": 1,
   "metadata": {},
   "outputs": [],
   "source": [
    "import forces\n",
    "from datetime import date\n",
    "\n",
    "mil_base = 4.5\n",
    "dyd_base = 2.5"
   ]
  },
  {
   "cell_type": "code",
   "execution_count": 10,
   "metadata": {},
   "outputs": [],
   "source": [
    "class Mil:\n",
    "\t\t\n",
    "\tdef __init__(self, init_date, prod_eff, prod_cap, fact_out):\n",
    "\t\tself.init_date = init_date\n",
    "\t\tself.prod_eff = prod_eff\n",
    "\t\tself.prod_cap = prod_cap\n",
    "\t\tself.fact_out = fact_out\n",
    "\t\tself.at_prod_cap = False\n",
    "\t\tself.produced = 0\n",
    "\t\t\n",
    "\tdef daily_prod(self):\n",
    "\t\toutput_IC = self.fact_out * self.prod_eff * mil_base\n",
    "\t\tself.prod_eff_daily_gain()\n",
    "\t\tself.produced += output_IC\n",
    "\t\t\n",
    "\tdef prod_eff_daily_gain(self):\n",
    "\t\tif self.at_prod_cap == False:\n",
    "\t\t\tself.prod_eff = self.prod_eff + 0.001 * self.prod_cap ** 2 / self.prod_eff\n",
    "\t\t\tif self.prod_eff > self.prod_cap:\n",
    "\t\t\t\tself.prod_eff = self.prod_cap\n",
    "\t\t\t\tself.at_prod_cap = True\n",
    "\n",
    "\n",
    "class Dyd:\n",
    "\n",
    "\tdef __init__(self, init_date, dyd_out) -> None:\n",
    "\t\tself.init_date = init_date\n",
    "\t\tself.dyd_out = dyd_out\n",
    "\t\tself.produced = 0\n",
    "\n",
    "\tdef daily_prod(self):\n",
    "\t\toutput_IC = self.dyd_out * dyd_base\n",
    "\t\tself.produced += output_IC\n"
   ]
  },
  {
   "cell_type": "code",
   "execution_count": 11,
   "metadata": {},
   "outputs": [],
   "source": []
  },
  {
   "cell_type": "code",
   "execution_count": null,
   "metadata": {},
   "outputs": [],
   "source": [
    "# Example of Economy instatiation\n",
    "\n",
    "Socialist_Italy_36 = Economy(\n",
    "    1936,\n",
    "    [(8, 'max'), (2)]\n",
    "    [(4, laa.IE, 'max'), (2, laa.ARTE, 'max'), (1, laa.SE, 'max'), (2, laa.TRE, 'max'), (1, laa.FIG, 'max')],\n",
    "    {},\n",
    "    {},\n",
    "    {},\n",
    "    1.0,\n",
    "    0.8\n",
    ")"
   ]
  },
  {
   "cell_type": "code",
   "execution_count": 19,
   "metadata": {},
   "outputs": [
    {
     "name": "stdout",
     "output_type": "stream",
     "text": [
      "3\n"
     ]
    }
   ],
   "source": [
    "# Example of bonus schedule\n",
    "\n",
    "bonus_sched = {\n",
    "    'date': {\n",
    "        'base_mod': 0.2,\n",
    "        'cap_mod': 0.1,\n",
    "        'dyd_mod': 0.3\n",
    "    }\n",
    "}"
   ]
  },
  {
   "cell_type": "code",
   "execution_count": null,
   "metadata": {},
   "outputs": [],
   "source": [
    "# Constructor components of bonus schedule. Need to be able to add/remove some like national spirits.\n",
    "\n",
    "technology = {\n",
    "\n",
    "}\n",
    "\n",
    "focus_tree = {\n",
    "    \n",
    "}\n",
    "\n",
    "economy_law = {\n",
    "\n",
    "}\n",
    "\n",
    "national_spirits = {\n",
    "\n",
    "}"
   ]
  },
  {
   "cell_type": "code",
   "execution_count": null,
   "metadata": {},
   "outputs": [],
   "source": [
    "# Calculating fact_out and dyd_out\n",
    "\n",
    "def update_fact_mods(self):\n",
    "    "
   ]
  }
 ],
 "metadata": {
  "kernelspec": {
   "display_name": "Python 3",
   "language": "python",
   "name": "python3"
  },
  "language_info": {
   "codemirror_mode": {
    "name": "ipython",
    "version": 3
   },
   "file_extension": ".py",
   "mimetype": "text/x-python",
   "name": "python",
   "nbconvert_exporter": "python",
   "pygments_lexer": "ipython3",
   "version": "3.11.1"
  },
  "orig_nbformat": 4,
  "vscode": {
   "interpreter": {
    "hash": "5238573367df39f7286bb46f9ff5f08f63a01a80960060ce41e3c79b190280fa"
   }
  }
 },
 "nbformat": 4,
 "nbformat_minor": 2
}
